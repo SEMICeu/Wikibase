{
 "cells": [
  {
   "attachments": {},
   "cell_type": "markdown",
   "metadata": {},
   "source": [
    "# Exploring Pywikibot for Wikibase"
   ]
  },
  {
   "attachments": {},
   "cell_type": "markdown",
   "metadata": {},
   "source": [
    "This notebook will help you understand the basics of the [Pywikibot](https://github.com/wikimedia/pywikibot) Python library and how it can be used to interact programmatically with a Wikibase instance like [this one](https://wikibase.semic.eu/)."
   ]
  },
  {
   "attachments": {},
   "cell_type": "markdown",
   "metadata": {},
   "source": [
    "Let's start by installing the Pywikibot libary with pip:"
   ]
  },
  {
   "cell_type": "code",
   "execution_count": null,
   "metadata": {},
   "outputs": [],
   "source": [
    "%pip install pywikibot"
   ]
  },
  {
   "attachments": {},
   "cell_type": "markdown",
   "metadata": {},
   "source": [
    "We need some config files contained in the GitHub repo, so let's clone it:"
   ]
  },
  {
   "cell_type": "code",
   "execution_count": null,
   "metadata": {},
   "outputs": [],
   "source": [
    "!git clone https://github.com/SEMICeu/Wikibase.git"
   ]
  },
  {
   "attachments": {},
   "cell_type": "markdown",
   "metadata": {},
   "source": [
    "Now we can specify to Pywikibot where to find these files with an environment variable:"
   ]
  },
  {
   "cell_type": "code",
   "execution_count": null,
   "metadata": {},
   "outputs": [],
   "source": [
    "%env PYWIKIBOT_DIR=/content/Wikibase"
   ]
  },
  {
   "attachments": {},
   "cell_type": "markdown",
   "metadata": {},
   "source": [
    "Finally we can import the Pywikibot module:"
   ]
  },
  {
   "cell_type": "code",
   "execution_count": null,
   "metadata": {},
   "outputs": [],
   "source": [
    "import pywikibot"
   ]
  },
  {
   "attachments": {},
   "cell_type": "markdown",
   "metadata": {},
   "source": [
    "All we miss is the `user-password.py` script. Choose \"Files\" in the left pane, then right click and \"New file\" to create a file with that name.\n",
    "The credentials will be provided during the session."
   ]
  },
  {
   "attachments": {},
   "cell_type": "markdown",
   "metadata": {},
   "source": [
    "Now we can connect to the Wikibase by using a predefined configuration:"
   ]
  },
  {
   "cell_type": "code",
   "execution_count": null,
   "metadata": {},
   "outputs": [],
   "source": [
    "wikibase = pywikibot.Site(\"my\", \"my\")\n",
    "wikibase_repo = wikibase.data_repository()\n",
    "wikibase_repo.login()"
   ]
  },
  {
   "attachments": {},
   "cell_type": "markdown",
   "metadata": {},
   "source": [
    "Let's look at item Q1 and get its English label:"
   ]
  },
  {
   "cell_type": "code",
   "execution_count": null,
   "metadata": {},
   "outputs": [],
   "source": [
    "item = pywikibot.ItemPage(wikibase_repo, \"Q1\")\n",
    "item.get()\n",
    "item.labels['en']"
   ]
  },
  {
   "attachments": {},
   "cell_type": "markdown",
   "metadata": {},
   "source": [
    "We can add a new French label in this way:"
   ]
  },
  {
   "cell_type": "code",
   "execution_count": null,
   "metadata": {},
   "outputs": [],
   "source": [
    "fr_label = \"Communauté d'interopérabilité sémantique\"\n",
    "new_label = {'fr': fr_label}\n",
    "item.editLabels(new_label, summary=u'Added French label')"
   ]
  },
  {
   "attachments": {},
   "cell_type": "markdown",
   "metadata": {},
   "source": [
    "Check the [Item:Q1](https://wikibase.semic.eu/wiki/Item:Q1) page and the new label is now there. You can look at the [history](https://wikibase.semic.eu/w/index.php?title=Item:Q1&action=history) for more details."
   ]
  },
  {
   "attachments": {},
   "cell_type": "markdown",
   "metadata": {},
   "source": [
    "We can proceed in the same way to add a French description:"
   ]
  },
  {
   "cell_type": "code",
   "execution_count": null,
   "metadata": {},
   "outputs": [],
   "source": [
    "fr_desc = \"Programme de la Commission européenne\"\n",
    "new_desc = {'fr': fr_desc}\n",
    "item.editDescriptions(new_desc, summary=u'Added French description')"
   ]
  },
  {
   "attachments": {},
   "cell_type": "markdown",
   "metadata": {},
   "source": [
    "Now to add new statements/claims, we can use the more generic `editEntity` function:"
   ]
  },
  {
   "cell_type": "code",
   "execution_count": null,
   "metadata": {},
   "outputs": [],
   "source": [
    "claim = pywikibot.Claim(wikibase_repo, 'P1', datatype='wikibase-item')\n",
    "object_item = pywikibot.ItemPage(wikibase_repo, 'Q4')\n",
    "claim.setTarget(object_item)\n",
    "new_claim = [claim.toJSON()]\n",
    "data = {'claims': new_claim}\n",
    "item.editEntity(data, summary='Added new claim')"
   ]
  },
  {
   "attachments": {},
   "cell_type": "markdown",
   "metadata": {},
   "source": [
    "This can also be used to change several things (label, description, alias) in one go:"
   ]
  },
  {
   "cell_type": "code",
   "execution_count": null,
   "metadata": {},
   "outputs": [],
   "source": [
    "data = {}\n",
    "data['labels'] = {'de': \"Gemeinschaft für semantische Interoperabilität\"}\n",
    "data['descriptions'] = {'de': \"Programm der Europäischen Kommission\"}\n",
    "data['aliases'] = {'de': [\"SEMIC\"]}\n",
    "item.editEntity(data, summary='Added German label, description, and alias')"
   ]
  },
  {
   "attachments": {},
   "cell_type": "markdown",
   "metadata": {},
   "source": [
    "If you use `ItemPage` without specifying a QID, then a new item will be created on the fly:"
   ]
  },
  {
   "cell_type": "code",
   "execution_count": null,
   "metadata": {},
   "outputs": [],
   "source": [
    "new_item = pywikibot.ItemPage(wikibase_repo)\n",
    "data = {}\n",
    "data[\"labels\"] = {'en': \"test\"}\n",
    "data[\"descriptions\"] = {'en': \"temporary page, to be removed\"}\n",
    "new_item.editEntity(data, summary='Creating temp item')\n",
    "new_item.get()\n",
    "new_qid = new_item.getID()\n",
    "print(f\"Created new item {new_qid}\")"
   ]
  },
  {
   "attachments": {},
   "cell_type": "markdown",
   "metadata": {},
   "source": [
    "Since this is a temporary item, we can now delete it:"
   ]
  },
  {
   "cell_type": "code",
   "execution_count": null,
   "metadata": {},
   "outputs": [],
   "source": [
    "new_item.delete(reason=\"This was temporary\")"
   ]
  },
  {
   "attachments": {},
   "cell_type": "markdown",
   "metadata": {},
   "source": [
    "## Exercise\n",
    "\n",
    "Now add new code cells below and copy-paste code from above to:\n",
    "\n",
    "1. create a new item in the Wikibase\n",
    "2. add at least a label, a description, and an alias to it (in any language)\n",
    "3. attach two new claims to it\n",
    "\n",
    "Don't hesitate to break down the code into several cells to test it line by line.\n",
    "Visualise the results of the intermediary steps on <https://wikibase.semic.eu/>."
   ]
  }
 ],
 "metadata": {
  "kernelspec": {
   "display_name": "Python 3",
   "language": "python",
   "name": "python3"
  },
  "language_info": {
   "codemirror_mode": {
    "name": "ipython",
    "version": 3
   },
   "file_extension": ".py",
   "mimetype": "text/x-python",
   "name": "python",
   "nbconvert_exporter": "python",
   "pygments_lexer": "ipython3",
   "version": "3.10.9"
  },
  "orig_nbformat": 4,
  "vscode": {
   "interpreter": {
    "hash": "767d51c1340bd893661ea55ea3124f6de3c7a262a8b4abca0554b478b1e2ff90"
   }
  }
 },
 "nbformat": 4,
 "nbformat_minor": 2
}
